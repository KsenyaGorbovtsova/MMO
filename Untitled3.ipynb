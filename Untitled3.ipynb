{
 "cells": [
  {
   "cell_type": "code",
   "execution_count": 1,
   "metadata": {
    "collapsed": true
   },
   "outputs": [],
   "source": [
    "import numpy as np\n",
    "import pandas as pd\n",
    "import seaborn as sns\n",
    "import matplotlib.pyplot as plt\n",
    "from sklearn import preprocessing, svm\n",
    "from sklearn import model_selection\n",
    "from sklearn.model_selection import train_test_split\n",
    "from sklearn.linear_model import BayesianRidge\n",
    "from sklearn.tree import DecisionTreeClassifier, DecisionTreeRegressor, export_graphviz\n",
    "from sklearn.metrics import r2_score\n",
    "%matplotlib inline \n",
    "sns.set(style=\"ticks\")\n",
    "\n",
    "import warnings\n",
    "warnings.filterwarnings('ignore')"
   ]
  },
  {
   "cell_type": "code",
   "execution_count": 2,
   "metadata": {
    "collapsed": true
   },
   "outputs": [],
   "source": [
    "data = pd.read_csv(\"advertising.csv\")"
   ]
  },
  {
   "cell_type": "code",
   "execution_count": 3,
   "metadata": {},
   "outputs": [
    {
     "data": {
      "text/html": [
       "<div>\n",
       "<style>\n",
       "    .dataframe thead tr:only-child th {\n",
       "        text-align: right;\n",
       "    }\n",
       "\n",
       "    .dataframe thead th {\n",
       "        text-align: left;\n",
       "    }\n",
       "\n",
       "    .dataframe tbody tr th {\n",
       "        vertical-align: top;\n",
       "    }\n",
       "</style>\n",
       "<table border=\"1\" class=\"dataframe\">\n",
       "  <thead>\n",
       "    <tr style=\"text-align: right;\">\n",
       "      <th></th>\n",
       "      <th>TV</th>\n",
       "      <th>Radio</th>\n",
       "      <th>Newspaper</th>\n",
       "      <th>Sales</th>\n",
       "    </tr>\n",
       "  </thead>\n",
       "  <tbody>\n",
       "    <tr>\n",
       "      <th>1</th>\n",
       "      <td>230.1</td>\n",
       "      <td>37.8</td>\n",
       "      <td>69.2</td>\n",
       "      <td>22.1</td>\n",
       "    </tr>\n",
       "    <tr>\n",
       "      <th>2</th>\n",
       "      <td>44.5</td>\n",
       "      <td>39.3</td>\n",
       "      <td>45.1</td>\n",
       "      <td>10.4</td>\n",
       "    </tr>\n",
       "    <tr>\n",
       "      <th>3</th>\n",
       "      <td>17.2</td>\n",
       "      <td>45.9</td>\n",
       "      <td>69.3</td>\n",
       "      <td>9.3</td>\n",
       "    </tr>\n",
       "    <tr>\n",
       "      <th>4</th>\n",
       "      <td>151.5</td>\n",
       "      <td>41.3</td>\n",
       "      <td>58.5</td>\n",
       "      <td>18.5</td>\n",
       "    </tr>\n",
       "    <tr>\n",
       "      <th>5</th>\n",
       "      <td>180.8</td>\n",
       "      <td>10.8</td>\n",
       "      <td>58.4</td>\n",
       "      <td>12.9</td>\n",
       "    </tr>\n",
       "  </tbody>\n",
       "</table>\n",
       "</div>"
      ],
      "text/plain": [
       "      TV  Radio  Newspaper  Sales\n",
       "1  230.1   37.8       69.2   22.1\n",
       "2   44.5   39.3       45.1   10.4\n",
       "3   17.2   45.9       69.3    9.3\n",
       "4  151.5   41.3       58.5   18.5\n",
       "5  180.8   10.8       58.4   12.9"
      ]
     },
     "execution_count": 3,
     "metadata": {},
     "output_type": "execute_result"
    }
   ],
   "source": [
    "data.head(5)"
   ]
  },
  {
   "cell_type": "code",
   "execution_count": 5,
   "metadata": {},
   "outputs": [
    {
     "name": "stdout",
     "output_type": "stream",
     "text": [
      "<class 'pandas.core.frame.DataFrame'>\n",
      "Int64Index: 200 entries, 1 to 200\n",
      "Data columns (total 4 columns):\n",
      "TV           200 non-null float64\n",
      "Radio        200 non-null float64\n",
      "Newspaper    200 non-null float64\n",
      "Sales        200 non-null float64\n",
      "dtypes: float64(4)\n",
      "memory usage: 7.8 KB\n"
     ]
    }
   ],
   "source": [
    "data.info()"
   ]
  },
  {
   "cell_type": "code",
   "execution_count": 4,
   "metadata": {},
   "outputs": [
    {
     "data": {
      "text/html": [
       "<div>\n",
       "<style>\n",
       "    .dataframe thead tr:only-child th {\n",
       "        text-align: right;\n",
       "    }\n",
       "\n",
       "    .dataframe thead th {\n",
       "        text-align: left;\n",
       "    }\n",
       "\n",
       "    .dataframe tbody tr th {\n",
       "        vertical-align: top;\n",
       "    }\n",
       "</style>\n",
       "<table border=\"1\" class=\"dataframe\">\n",
       "  <thead>\n",
       "    <tr style=\"text-align: right;\">\n",
       "      <th></th>\n",
       "      <th>TV</th>\n",
       "      <th>Radio</th>\n",
       "      <th>Newspaper</th>\n",
       "      <th>Sales</th>\n",
       "    </tr>\n",
       "  </thead>\n",
       "  <tbody>\n",
       "    <tr>\n",
       "      <th>count</th>\n",
       "      <td>200.000000</td>\n",
       "      <td>200.000000</td>\n",
       "      <td>200.000000</td>\n",
       "      <td>200.000000</td>\n",
       "    </tr>\n",
       "    <tr>\n",
       "      <th>mean</th>\n",
       "      <td>147.042500</td>\n",
       "      <td>23.264000</td>\n",
       "      <td>30.554000</td>\n",
       "      <td>14.022500</td>\n",
       "    </tr>\n",
       "    <tr>\n",
       "      <th>std</th>\n",
       "      <td>85.854236</td>\n",
       "      <td>14.846809</td>\n",
       "      <td>21.778621</td>\n",
       "      <td>5.217457</td>\n",
       "    </tr>\n",
       "    <tr>\n",
       "      <th>min</th>\n",
       "      <td>0.700000</td>\n",
       "      <td>0.000000</td>\n",
       "      <td>0.300000</td>\n",
       "      <td>1.600000</td>\n",
       "    </tr>\n",
       "    <tr>\n",
       "      <th>25%</th>\n",
       "      <td>74.375000</td>\n",
       "      <td>9.975000</td>\n",
       "      <td>12.750000</td>\n",
       "      <td>10.375000</td>\n",
       "    </tr>\n",
       "    <tr>\n",
       "      <th>50%</th>\n",
       "      <td>149.750000</td>\n",
       "      <td>22.900000</td>\n",
       "      <td>25.750000</td>\n",
       "      <td>12.900000</td>\n",
       "    </tr>\n",
       "    <tr>\n",
       "      <th>75%</th>\n",
       "      <td>218.825000</td>\n",
       "      <td>36.525000</td>\n",
       "      <td>45.100000</td>\n",
       "      <td>17.400000</td>\n",
       "    </tr>\n",
       "    <tr>\n",
       "      <th>max</th>\n",
       "      <td>296.400000</td>\n",
       "      <td>49.600000</td>\n",
       "      <td>114.000000</td>\n",
       "      <td>27.000000</td>\n",
       "    </tr>\n",
       "  </tbody>\n",
       "</table>\n",
       "</div>"
      ],
      "text/plain": [
       "               TV       Radio   Newspaper       Sales\n",
       "count  200.000000  200.000000  200.000000  200.000000\n",
       "mean   147.042500   23.264000   30.554000   14.022500\n",
       "std     85.854236   14.846809   21.778621    5.217457\n",
       "min      0.700000    0.000000    0.300000    1.600000\n",
       "25%     74.375000    9.975000   12.750000   10.375000\n",
       "50%    149.750000   22.900000   25.750000   12.900000\n",
       "75%    218.825000   36.525000   45.100000   17.400000\n",
       "max    296.400000   49.600000  114.000000   27.000000"
      ]
     },
     "execution_count": 4,
     "metadata": {},
     "output_type": "execute_result"
    }
   ],
   "source": [
    "data.describe()"
   ]
  },
  {
   "cell_type": "code",
   "execution_count": 6,
   "metadata": {},
   "outputs": [
    {
     "data": {
      "text/plain": [
       "Index(['TV', 'Radio', 'Newspaper', 'Sales'], dtype='object')"
      ]
     },
     "execution_count": 6,
     "metadata": {},
     "output_type": "execute_result"
    }
   ],
   "source": [
    "data.columns"
   ]
  },
  {
   "cell_type": "code",
   "execution_count": 7,
   "metadata": {},
   "outputs": [
    {
     "data": {
      "text/plain": [
       "<seaborn.axisgrid.FacetGrid at 0x1129da4e0>"
      ]
     },
     "execution_count": 7,
     "metadata": {},
     "output_type": "execute_result"
    },
    {
     "data": {
      "image/png": "[encoded data removed]",
      "text/plain": [
       "<matplotlib.figure.Figure at 0x1129daa58>"
      ]
     },
     "metadata": {},
     "output_type": "display_data"
    }
   ],
   "source": [
    "sns.lmplot(x=\"TV\", y=\"Sales\", data=data, order=2, ci=None)"
   ]
  },
  {
   "cell_type": "code",
   "execution_count": 9,
   "metadata": {},
   "outputs": [
    {
     "data": {
      "text/plain": [
       "<seaborn.axisgrid.FacetGrid at 0x126c80b70>"
      ]
     },
     "execution_count": 9,
     "metadata": {},
     "output_type": "execute_result"
    },
    {
     "data": {
      "image/png": "[encoded data removed]",
      "text/plain": [
       "<matplotlib.figure.Figure at 0x126c80400>"
      ]
     },
     "metadata": {},
     "output_type": "display_data"
    }
   ],
   "source": [
    "sns.lmplot(x=\"Newspaper\", y=\"Sales\", data=data, order=2, ci=None)"
   ]
  },
  {
   "cell_type": "code",
   "execution_count": 8,
   "metadata": {},
   "outputs": [
    {
     "data": {
      "text/plain": [
       "<seaborn.axisgrid.FacetGrid at 0x124a2e4e0>"
      ]
     },
     "execution_count": 8,
     "metadata": {},
     "output_type": "execute_result"
    },
    {
     "data": {
      "image/png": "[encoded data removed]",
      "text/plain": [
       "<matplotlib.figure.Figure at 0x124a5cf60>"
      ]
     },
     "metadata": {},
     "output_type": "display_data"
    }
   ],
   "source": [
    "sns.lmplot(x=\"Radio\", y=\"Sales\", data=data, order=2, ci=None)"
   ]
  },
  {
   "cell_type": "code",
   "execution_count": 10,
   "metadata": {},
   "outputs": [
    {
     "data": {
      "text/html": [
       "<div>\n",
       "<style>\n",
       "    .dataframe thead tr:only-child th {\n",
       "        text-align: right;\n",
       "    }\n",
       "\n",
       "    .dataframe thead th {\n",
       "        text-align: left;\n",
       "    }\n",
       "\n",
       "    .dataframe tbody tr th {\n",
       "        vertical-align: top;\n",
       "    }\n",
       "</style>\n",
       "<table border=\"1\" class=\"dataframe\">\n",
       "  <thead>\n",
       "    <tr style=\"text-align: right;\">\n",
       "      <th></th>\n",
       "      <th>TV</th>\n",
       "      <th>Radio</th>\n",
       "      <th>Newspaper</th>\n",
       "      <th>Sales</th>\n",
       "    </tr>\n",
       "  </thead>\n",
       "  <tbody>\n",
       "    <tr>\n",
       "      <th>TV</th>\n",
       "      <td>1.000000</td>\n",
       "      <td>0.054809</td>\n",
       "      <td>0.056648</td>\n",
       "      <td>0.782224</td>\n",
       "    </tr>\n",
       "    <tr>\n",
       "      <th>Radio</th>\n",
       "      <td>0.054809</td>\n",
       "      <td>1.000000</td>\n",
       "      <td>0.354104</td>\n",
       "      <td>0.576223</td>\n",
       "    </tr>\n",
       "    <tr>\n",
       "      <th>Newspaper</th>\n",
       "      <td>0.056648</td>\n",
       "      <td>0.354104</td>\n",
       "      <td>1.000000</td>\n",
       "      <td>0.228299</td>\n",
       "    </tr>\n",
       "    <tr>\n",
       "      <th>Sales</th>\n",
       "      <td>0.782224</td>\n",
       "      <td>0.576223</td>\n",
       "      <td>0.228299</td>\n",
       "      <td>1.000000</td>\n",
       "    </tr>\n",
       "  </tbody>\n",
       "</table>\n",
       "</div>"
      ],
      "text/plain": [
       "                 TV     Radio  Newspaper     Sales\n",
       "TV         1.000000  0.054809   0.056648  0.782224\n",
       "Radio      0.054809  1.000000   0.354104  0.576223\n",
       "Newspaper  0.056648  0.354104   1.000000  0.228299\n",
       "Sales      0.782224  0.576223   0.228299  1.000000"
      ]
     },
     "execution_count": 10,
     "metadata": {},
     "output_type": "execute_result"
    }
   ],
   "source": [
    "data.corr()"
   ]
  },
  {
   "cell_type": "markdown",
   "metadata": {},
   "source": [
    "Корреляция между TV и Sales: 0.78"
   ]
  },
  {
   "cell_type": "code",
   "execution_count": 11,
   "metadata": {},
   "outputs": [
    {
     "data": {
      "text/plain": [
       "7.054854152265513"
      ]
     },
     "execution_count": 11,
     "metadata": {},
     "output_type": "execute_result"
    }
   ],
   "source": [
    "x = data[\"TV\"].values\n",
    "y = data[\"Sales\"].values\n",
    "\n",
    "reg = BayesianRidge(fit_intercept=True).fit(x.reshape(-1, 1), y.reshape(-1, 1))\n",
    "reg.coef_\n",
    "reg.intercept_"
   ]
  },
  {
   "cell_type": "code",
   "execution_count": 12,
   "metadata": {
    "collapsed": true
   },
   "outputs": [],
   "source": [
    "def func(w, b, x):\n",
    "    return w*x + b"
   ]
  },
  {
   "cell_type": "code",
   "execution_count": 13,
   "metadata": {
    "collapsed": true
   },
   "outputs": [],
   "source": [
    "x_t = list(range(0, 300, 5))\n",
    "y_t = [func(reg.coef_[0], reg.intercept_, x) for x in x_t]\n",
    "y_tt = reg.predict(x.reshape(-1, 1))"
   ]
  },
  {
   "cell_type": "code",
   "execution_count": 20,
   "metadata": {},
   "outputs": [
    {
     "data": {
      "image/png": "[encoded data removed]",
      "text/plain": [
       "<matplotlib.figure.Figure at 0x12980acf8>"
      ]
     },
     "metadata": {},
     "output_type": "display_data"
    }
   ],
   "source": [
    "plt.plot(x, y, 'm.')\n",
    "plt.plot(x_t, y_t, 'grey', linewidth=2.0)\n",
    "plt.show()"
   ]
  },
  {
   "cell_type": "markdown",
   "metadata": {},
   "source": [
    "Хороший результат модели лин. регрессии"
   ]
  },
  {
   "cell_type": "markdown",
   "metadata": {},
   "source": [
    "## SVM"
   ]
  },
  {
   "cell_type": "code",
   "execution_count": 22,
   "metadata": {
    "collapsed": true
   },
   "outputs": [],
   "source": [
    "from sklearn.svm import SVC, NuSVC, LinearSVC, OneClassSVM, SVR, NuSVR, LinearSVR"
   ]
  },
  {
   "cell_type": "code",
   "execution_count": 36,
   "metadata": {},
   "outputs": [
    {
     "data": {
      "text/plain": [
       "[<matplotlib.lines.Line2D at 0x128f3f278>]"
      ]
     },
     "execution_count": 36,
     "metadata": {},
     "output_type": "execute_result"
    },
    {
     "data": {
      "image/png": "[encoded data removed]",
      "text/plain": [
       "<matplotlib.figure.Figure at 0x128f3d0f0>"
      ]
     },
     "metadata": {},
     "output_type": "display_data"
    }
   ],
   "source": [
    "lin_SVR = LinearSVR(C=1.0, max_iter=10000)\n",
    "lin_SVR.fit(x.reshape(-1, 1), y)\n",
    "predict = lin_SVR.predict(x.reshape(-1, 1))\n",
    "plt.plot(x, y, 'm.')\n",
    "plt.plot(x, predict, 'go')"
   ]
  },
  {
   "cell_type": "markdown",
   "metadata": {},
   "source": [
    "## Деревья решений"
   ]
  },
  {
   "cell_type": "code",
   "execution_count": 37,
   "metadata": {},
   "outputs": [
    {
     "data": {
      "text/plain": [
       "DecisionTreeRegressor(ccp_alpha=0.0, criterion='mse', max_depth=5,\n",
       "                      max_features=None, max_leaf_nodes=None,\n",
       "                      min_impurity_decrease=0.0, min_impurity_split=None,\n",
       "                      min_samples_leaf=1, min_samples_split=2,\n",
       "                      min_weight_fraction_leaf=0.0, presort='deprecated',\n",
       "                      random_state=1, splitter='best')"
      ]
     },
     "execution_count": 37,
     "metadata": {},
     "output_type": "execute_result"
    }
   ],
   "source": [
    "dec_tree = DecisionTreeRegressor(random_state=1, max_depth=5)\n",
    "dec_tree.fit(data, data[\"Sales\"])\n",
    "dec_tree"
   ]
  },
  {
   "cell_type": "code",
   "execution_count": 38,
   "metadata": {
    "collapsed": true
   },
   "outputs": [],
   "source": [
    "dec_predict = dec_tree.predict(data)"
   ]
  },
  {
   "cell_type": "code",
   "execution_count": 39,
   "metadata": {},
   "outputs": [
    {
     "data": {
      "text/plain": [
       "[<matplotlib.text.Annotation at 0x12962ee80>,\n",
       " <matplotlib.text.Annotation at 0x12963cd30>,\n",
       " <matplotlib.text.Annotation at 0x12963c278>,\n",
       " <matplotlib.text.Annotation at 0x129154438>,\n",
       " <matplotlib.text.Annotation at 0x129154a20>,\n",
       " <matplotlib.text.Annotation at 0x1297df240>,\n",
       " <matplotlib.text.Annotation at 0x1297df198>,\n",
       " <matplotlib.text.Annotation at 0x129be3d68>,\n",
       " <matplotlib.text.Annotation at 0x129be3d30>,\n",
       " <matplotlib.text.Annotation at 0x129a80eb8>,\n",
       " <matplotlib.text.Annotation at 0x129a80080>,\n",
       " <matplotlib.text.Annotation at 0x129183b00>,\n",
       " <matplotlib.text.Annotation at 0x129183630>,\n",
       " <matplotlib.text.Annotation at 0x1296e8eb8>,\n",
       " <matplotlib.text.Annotation at 0x12928d470>,\n",
       " <matplotlib.text.Annotation at 0x12928db38>,\n",
       " <matplotlib.text.Annotation at 0x1296e33c8>,\n",
       " <matplotlib.text.Annotation at 0x1291544a8>,\n",
       " <matplotlib.text.Annotation at 0x129f73828>,\n",
       " <matplotlib.text.Annotation at 0x129cf0978>,\n",
       " <matplotlib.text.Annotation at 0x129cf0128>,\n",
       " <matplotlib.text.Annotation at 0x129787f98>,\n",
       " <matplotlib.text.Annotation at 0x129766f60>,\n",
       " <matplotlib.text.Annotation at 0x1296b9f98>,\n",
       " <matplotlib.text.Annotation at 0x12931ea20>,\n",
       " <matplotlib.text.Annotation at 0x1296274e0>,\n",
       " <matplotlib.text.Annotation at 0x12938eba8>,\n",
       " <matplotlib.text.Annotation at 0x129190dd8>,\n",
       " <matplotlib.text.Annotation at 0x129632b00>,\n",
       " <matplotlib.text.Annotation at 0x1298ae978>,\n",
       " <matplotlib.text.Annotation at 0x129a057f0>,\n",
       " <matplotlib.text.Annotation at 0x129deba90>,\n",
       " <matplotlib.text.Annotation at 0x12963cb38>,\n",
       " <matplotlib.text.Annotation at 0x129d08128>,\n",
       " <matplotlib.text.Annotation at 0x129bed828>,\n",
       " <matplotlib.text.Annotation at 0x129bed7b8>,\n",
       " <matplotlib.text.Annotation at 0x129bedd30>,\n",
       " <matplotlib.text.Annotation at 0x129dffb00>,\n",
       " <matplotlib.text.Annotation at 0x129c15f60>,\n",
       " <matplotlib.text.Annotation at 0x129c15048>,\n",
       " <matplotlib.text.Annotation at 0x129eb25f8>,\n",
       " <matplotlib.text.Annotation at 0x129f7dc88>,\n",
       " <matplotlib.text.Annotation at 0x129f7d400>,\n",
       " <matplotlib.text.Annotation at 0x129f850f0>,\n",
       " <matplotlib.text.Annotation at 0x129f85748>,\n",
       " <matplotlib.text.Annotation at 0x129f85588>,\n",
       " <matplotlib.text.Annotation at 0x1290f6278>,\n",
       " <matplotlib.text.Annotation at 0x1290f67f0>,\n",
       " <matplotlib.text.Annotation at 0x1290f6240>,\n",
       " <matplotlib.text.Annotation at 0x12900a2b0>,\n",
       " <matplotlib.text.Annotation at 0x12900a860>,\n",
       " <matplotlib.text.Annotation at 0x12900ae10>,\n",
       " <matplotlib.text.Annotation at 0x128ffe3c8>,\n",
       " <matplotlib.text.Annotation at 0x128ffe978>,\n",
       " <matplotlib.text.Annotation at 0x128ffeeb8>,\n",
       " <matplotlib.text.Annotation at 0x128fe3470>,\n",
       " <matplotlib.text.Annotation at 0x128fe39e8>,\n",
       " <matplotlib.text.Annotation at 0x128fe3f28>,\n",
       " <matplotlib.text.Annotation at 0x129b7d518>,\n",
       " <matplotlib.text.Annotation at 0x129b7da90>,\n",
       " <matplotlib.text.Annotation at 0x129b76080>,\n",
       " <matplotlib.text.Annotation at 0x129b765c0>,\n",
       " <matplotlib.text.Annotation at 0x129b76b38>]"
      ]
     },
     "execution_count": 39,
     "metadata": {},
     "output_type": "execute_result"
    },
    {
     "data": {
      "image/png": "[encoded data removed]",
      "text/plain": [
       "<matplotlib.figure.Figure at 0x129177240>"
      ]
     },
     "metadata": {},
     "output_type": "display_data"
    }
   ],
   "source": [
    "from sklearn import tree\n",
    "tree.plot_tree(dec_tree, filled=True)"
   ]
  },
  {
   "cell_type": "markdown",
   "metadata": {},
   "source": [
    "## Метрики качества"
   ]
  },
  {
   "cell_type": "code",
   "execution_count": 40,
   "metadata": {},
   "outputs": [
    {
     "name": "stdout",
     "output_type": "stream",
     "text": [
      "Метрики для линейной модели:\n",
      "\n",
      "Средняя абсолютная ошибка:  2.550919383216356\n",
      "Средняя квадратичная ошибка:  10.512821002854928\n",
      "Коэффициент детерминации:  0.6118688451058344\n",
      "\n",
      "\n",
      "Метрики для SVM-модели:\n",
      "\n",
      "Средняя абсолютная ошибка:  2.5448505255587452\n",
      "Средняя квадратичная ошибка:  10.736973059051945\n",
      "Коэффициент детерминации:  0.6035931980249962\n",
      "\n",
      "\n",
      "Метрики для Decision Tree:\n",
      "\n",
      "Средняя абсолютная ошибка:  0.14353164841694266\n",
      "Средняя квадратичная ошибка:  0.03201810934980053\n",
      "Коэффициент детерминации:  0.9988178980926156\n"
     ]
    }
   ],
   "source": [
    "from sklearn.metrics import mean_absolute_error, mean_squared_error, mean_squared_log_error, median_absolute_error, r2_score \n",
    "\n",
    "print(\"Метрики для линейной модели:\\n\")\n",
    "print(\"Средняя абсолютная ошибка: \", mean_absolute_error(y, y_tt))\n",
    "print(\"Средняя квадратичная ошибка: \", mean_squared_error(y, y_tt))\n",
    "print(\"Коэффициент детерминации: \", r2_score(y, y_tt))\n",
    "\n",
    "print(\"\\n\\nМетрики для SVM-модели:\\n\")\n",
    "print(\"Средняя абсолютная ошибка: \", mean_absolute_error(y, predict))\n",
    "print(\"Средняя квадратичная ошибка: \", mean_squared_error(y, predict))\n",
    "print(\"Коэффициент детерминации: \", r2_score(y, predict))\n",
    "\n",
    "\n",
    "print(\"\\n\\nМетрики для Decision Tree:\\n\")\n",
    "print(\"Средняя абсолютная ошибка: \", mean_absolute_error(y, dec_predict))\n",
    "print(\"Средняя квадратичная ошибка: \", mean_squared_error(y, dec_predict))\n",
    "print(\"Коэффициент детерминации: \", r2_score(y, dec_predict))"
   ]
  },
  {
   "cell_type": "markdown",
   "metadata": {},
   "source": [
    "## Подбор гиперпараметров. Кросс-валидация"
   ]
  },
  {
   "cell_type": "code",
   "execution_count": 41,
   "metadata": {
    "collapsed": true
   },
   "outputs": [],
   "source": [
    "from sklearn.model_selection import cross_validate"
   ]
  },
  {
   "cell_type": "code",
   "execution_count": 42,
   "metadata": {
    "collapsed": true
   },
   "outputs": [],
   "source": [
    "scoring = {'mean': 'neg_mean_absolute_error', 'square': 'neg_mean_squared_error', 'r2': 'r2'}"
   ]
  },
  {
   "cell_type": "code",
   "execution_count": 43,
   "metadata": {},
   "outputs": [
    {
     "data": {
      "text/plain": [
       "{'fit_time': array([0.00134683, 0.00257421, 0.00117993]),\n",
       " 'score_time': array([0.00234008, 0.00144506, 0.00160789]),\n",
       " 'test_mean': array([-2.51215213, -2.46200408, -2.76711466]),\n",
       " 'test_r2': array([0.61497417, 0.65311667, 0.53715304]),\n",
       " 'test_square': array([-10.83437466,  -9.33658309, -11.90833409])}"
      ]
     },
     "execution_count": 43,
     "metadata": {},
     "output_type": "execute_result"
    }
   ],
   "source": [
    "scores_regr = cross_validate(BayesianRidge(fit_intercept=True), \n",
    "                         x.reshape(-1, 1), y, cv=3, scoring=scoring)\n",
    "scores_regr"
   ]
  },
  {
   "cell_type": "code",
   "execution_count": 44,
   "metadata": {},
   "outputs": [
    {
     "data": {
      "text/plain": [
       "{'fit_time': array([0.05261493, 0.03779411, 0.03516173]),\n",
       " 'score_time': array([0.00378609, 0.00082994, 0.00082302]),\n",
       " 'test_mean': array([-3.97781926, -2.43809161, -3.2147747 ]),\n",
       " 'test_r2': array([0.10075056, 0.64924767, 0.33875267]),\n",
       " 'test_square': array([-25.30429029,  -9.44071981, -17.01286755])}"
      ]
     },
     "execution_count": 44,
     "metadata": {},
     "output_type": "execute_result"
    }
   ],
   "source": [
    "scores_svm = cross_validate(LinearSVR(C=1.0, max_iter=10000), \n",
    "                         x.reshape(-1, 1), y, cv=3, scoring=scoring)\n",
    "scores_svm"
   ]
  },
  {
   "cell_type": "code",
   "execution_count": 45,
   "metadata": {},
   "outputs": [
    {
     "data": {
      "text/plain": [
       "{'fit_time': array([0.004354  , 0.00379992, 0.00357795, 0.00352097, 0.00345826]),\n",
       " 'score_time': array([0.00356698, 0.00272489, 0.002074  , 0.00266981, 0.00261879]),\n",
       " 'test_mean': array([-0.72293478, -0.7307461 , -0.66116873, -0.85487267, -0.91550049]),\n",
       " 'test_r2': array([0.97486214, 0.97589358, 0.97175881, 0.95176776, 0.95938815]),\n",
       " 'test_square': array([-0.64975012, -0.70991464, -0.63349151, -1.4104023 , -1.08449788])}"
      ]
     },
     "execution_count": 45,
     "metadata": {},
     "output_type": "execute_result"
    }
   ],
   "source": [
    "scores_dec = cross_validate(DecisionTreeRegressor(random_state=1, max_depth=3), \n",
    "                         data, data[\"Sales\"], cv=5, scoring=scoring)\n",
    "scores_dec"
   ]
  },
  {
   "cell_type": "code",
   "execution_count": 46,
   "metadata": {},
   "outputs": [
    {
     "name": "stdout",
     "output_type": "stream",
     "text": [
      "Метрики для линейной модели:\n",
      "\n",
      "Средняя абсолютная ошибка:  -2.580423621885709\n",
      "Средняя квадратичная ошибка:  -10.693097277894969\n",
      "Коэффициент детерминации:  0.601747959666948\n",
      "\n",
      "\n",
      "Метрики для SVM-модели:\n",
      "\n",
      "Средняя абсолютная ошибка:  -3.210228524726626\n",
      "Средняя квадратичная ошибка:  -17.25262588239853\n",
      "Коэффициент детерминации:  0.3629169662615308\n",
      "\n",
      "\n",
      "Метрики для Decision Tree:\n",
      "\n",
      "Средняя абсолютная ошибка:  -0.7770445553321956\n",
      "Средняя квадратичная ошибка:  -0.8976112886827845\n",
      "Коэффициент детерминации:  0.9667340888852873\n"
     ]
    }
   ],
   "source": [
    "print(\"Метрики для линейной модели:\\n\")\n",
    "print(\"Средняя абсолютная ошибка: \", np.mean(scores_regr['test_mean']))\n",
    "print(\"Средняя квадратичная ошибка: \", np.mean(scores_regr['test_square']))\n",
    "print(\"Коэффициент детерминации: \", np.mean(scores_regr['test_r2']))\n",
    "\n",
    "print(\"\\n\\nМетрики для SVM-модели:\\n\")\n",
    "print(\"Средняя абсолютная ошибка: \", np.mean(scores_svm['test_mean']))\n",
    "print(\"Средняя квадратичная ошибка: \", np.mean(scores_svm['test_square']))\n",
    "print(\"Коэффициент детерминации: \", np.mean(scores_svm['test_r2']))\n",
    "\n",
    "\n",
    "print(\"\\n\\nМетрики для Decision Tree:\\n\")\n",
    "print(\"Средняя абсолютная ошибка: \", np.mean(scores_dec['test_mean']))\n",
    "print(\"Средняя квадратичная ошибка: \", np.mean(scores_dec['test_square']))\n",
    "print(\"Коэффициент детерминации: \", np.mean(scores_dec['test_r2']))"
   ]
  },
  {
   "cell_type": "markdown",
   "metadata": {},
   "source": [
    "## Оптимизация (решетчатый поиск)"
   ]
  },
  {
   "cell_type": "code",
   "execution_count": 47,
   "metadata": {
    "collapsed": true
   },
   "outputs": [],
   "source": [
    "from sklearn.model_selection import GridSearchCV"
   ]
  },
  {
   "cell_type": "code",
   "execution_count": 48,
   "metadata": {},
   "outputs": [
    {
     "data": {
      "text/plain": [
       "[{'max_depth': array([1, 2, 3, 4, 5, 6, 7, 8, 9])}]"
      ]
     },
     "execution_count": 48,
     "metadata": {},
     "output_type": "execute_result"
    }
   ],
   "source": [
    "n_range = np.array(range(1,10,1))\n",
    "tuned_parameters = [{'max_depth': n_range}]\n",
    "tuned_parameters"
   ]
  },
  {
   "cell_type": "code",
   "execution_count": 49,
   "metadata": {},
   "outputs": [
    {
     "name": "stdout",
     "output_type": "stream",
     "text": [
      "CPU times: user 98.9 ms, sys: 5.18 ms, total: 104 ms\n",
      "Wall time: 110 ms\n"
     ]
    }
   ],
   "source": [
    "%%time\n",
    "clf_gs = GridSearchCV(DecisionTreeRegressor(), tuned_parameters, cv=5, scoring='r2')\n",
    "clf_gs.fit(x.reshape(-1, 1), y)\n"
   ]
  },
  {
   "cell_type": "code",
   "execution_count": 50,
   "metadata": {},
   "outputs": [
    {
     "data": {
      "text/plain": [
       "DecisionTreeRegressor(ccp_alpha=0.0, criterion='mse', max_depth=3,\n",
       "                      max_features=None, max_leaf_nodes=None,\n",
       "                      min_impurity_decrease=0.0, min_impurity_split=None,\n",
       "                      min_samples_leaf=1, min_samples_split=2,\n",
       "                      min_weight_fraction_leaf=0.0, presort='deprecated',\n",
       "                      random_state=None, splitter='best')"
      ]
     },
     "execution_count": 50,
     "metadata": {},
     "output_type": "execute_result"
    }
   ],
   "source": [
    "# Лучшая модель\n",
    "clf_gs.best_estimator_"
   ]
  },
  {
   "cell_type": "code",
   "execution_count": 51,
   "metadata": {},
   "outputs": [
    {
     "data": {
      "text/plain": [
       "0.5464056968965096"
      ]
     },
     "execution_count": 51,
     "metadata": {},
     "output_type": "execute_result"
    }
   ],
   "source": [
    "clf_gs.best_score_"
   ]
  },
  {
   "cell_type": "code",
   "execution_count": 52,
   "metadata": {},
   "outputs": [
    {
     "data": {
      "text/plain": [
       "{'max_depth': 3}"
      ]
     },
     "execution_count": 52,
     "metadata": {},
     "output_type": "execute_result"
    }
   ],
   "source": [
    "clf_gs.best_params_"
   ]
  },
  {
   "cell_type": "code",
   "execution_count": 53,
   "metadata": {},
   "outputs": [
    {
     "data": {
      "text/plain": [
       "[<matplotlib.lines.Line2D at 0x12a0305c0>]"
      ]
     },
     "execution_count": 53,
     "metadata": {},
     "output_type": "execute_result"
    },
    {
     "data": {
      "image/png": "[encoded data removed]",
      "text/plain": [
       "<matplotlib.figure.Figure at 0x129c11c88>"
      ]
     },
     "metadata": {},
     "output_type": "display_data"
    }
   ],
   "source": [
    "plt.plot(n_range, clf_gs.cv_results_['mean_test_score'])"
   ]
  },
  {
   "cell_type": "markdown",
   "metadata": {},
   "source": [
    "## Оптимизация SVM"
   ]
  },
  {
   "cell_type": "code",
   "execution_count": 54,
   "metadata": {
    "collapsed": true
   },
   "outputs": [],
   "source": [
    "param_grid = {'C': [0.1,1, 10, 100], 'epsilon': [0.1, 0.2, 0.3, 0.4, 0.5, 0.6, 0.7, 0.8, 0.9, 1.0]}"
   ]
  },
  {
   "cell_type": "code",
   "execution_count": 55,
   "metadata": {},
   "outputs": [
    {
     "name": "stdout",
     "output_type": "stream",
     "text": [
      "Fitting 5 folds for each of 40 candidates, totalling 200 fits\n",
      "[CV] C=0.1, epsilon=0.1 ..............................................\n",
      "[CV] ............................... C=0.1, epsilon=0.1, total=   0.0s\n",
      "[CV] C=0.1, epsilon=0.1 ..............................................\n",
      "[CV] ............................... C=0.1, epsilon=0.1, total=   0.0s\n",
      "[CV] C=0.1, epsilon=0.1 ..............................................\n",
      "[CV] ............................... C=0.1, epsilon=0.1, total=   0.0s\n",
      "[CV] C=0.1, epsilon=0.1 ..............................................\n",
      "[CV] ............................... C=0.1, epsilon=0.1, total=   0.0s\n",
      "[CV] C=0.1, epsilon=0.1 ..............................................\n",
      "[CV] ............................... C=0.1, epsilon=0.1, total=   0.0s\n",
      "[CV] C=0.1, epsilon=0.2 ..............................................\n",
      "[CV] ............................... C=0.1, epsilon=0.2, total=   0.0s\n",
      "[CV] C=0.1, epsilon=0.2 ..............................................\n",
      "[CV] ............................... C=0.1, epsilon=0.2, total=   0.0s\n",
      "[CV] C=0.1, epsilon=0.2 ..............................................\n",
      "[CV] ............................... C=0.1, epsilon=0.2, total=   0.0s\n",
      "[CV] C=0.1, epsilon=0.2 ..............................................\n",
      "[CV] ............................... C=0.1, epsilon=0.2, total=   0.0s\n",
      "[CV] C=0.1, epsilon=0.2 ..............................................\n",
      "[CV] ............................... C=0.1, epsilon=0.2, total=   0.0s\n",
      "[CV] C=0.1, epsilon=0.3 ..............................................\n",
      "[CV] ............................... C=0.1, epsilon=0.3, total=   0.0s\n",
      "[CV] C=0.1, epsilon=0.3 ..............................................\n",
      "[CV] ............................... C=0.1, epsilon=0.3, total=   0.0s\n",
      "[CV] C=0.1, epsilon=0.3 ..............................................\n",
      "[CV] ............................... C=0.1, epsilon=0.3, total=   0.0s\n",
      "[CV] C=0.1, epsilon=0.3 ..............................................\n",
      "[CV] ............................... C=0.1, epsilon=0.3, total=   0.0s\n",
      "[CV] C=0.1, epsilon=0.3 ..............................................\n",
      "[CV] ............................... C=0.1, epsilon=0.3, total=   0.0s\n",
      "[CV] C=0.1, epsilon=0.4 ..............................................\n",
      "[CV] ............................... C=0.1, epsilon=0.4, total=   0.0s\n",
      "[CV] C=0.1, epsilon=0.4 ..............................................\n",
      "[CV] ............................... C=0.1, epsilon=0.4, total=   0.0s\n",
      "[CV] C=0.1, epsilon=0.4 ..............................................\n",
      "[CV] ............................... C=0.1, epsilon=0.4, total=   0.0s\n",
      "[CV] C=0.1, epsilon=0.4 ..............................................\n",
      "[CV] ............................... C=0.1, epsilon=0.4, total=   0.0s\n",
      "[CV] C=0.1, epsilon=0.4 ..............................................\n",
      "[CV] ............................... C=0.1, epsilon=0.4, total=   0.0s\n",
      "[CV] C=0.1, epsilon=0.5 ..............................................\n",
      "[CV] ............................... C=0.1, epsilon=0.5, total=   0.0s\n",
      "[CV] C=0.1, epsilon=0.5 ..............................................\n",
      "[CV] ............................... C=0.1, epsilon=0.5, total=   0.0s\n",
      "[CV] C=0.1, epsilon=0.5 ..............................................\n",
      "[CV] ............................... C=0.1, epsilon=0.5, total=   0.0s\n",
      "[CV] C=0.1, epsilon=0.5 ..............................................\n",
      "[CV] ............................... C=0.1, epsilon=0.5, total=   0.0s\n",
      "[CV] C=0.1, epsilon=0.5 ..............................................\n",
      "[CV] ............................... C=0.1, epsilon=0.5, total=   0.0s\n",
      "[CV] C=0.1, epsilon=0.6 ..............................................\n",
      "[CV] ............................... C=0.1, epsilon=0.6, total=   0.0s\n",
      "[CV] C=0.1, epsilon=0.6 ..............................................\n",
      "[CV] ............................... C=0.1, epsilon=0.6, total=   0.0s\n",
      "[CV] C=0.1, epsilon=0.6 ..............................................\n"
     ]
    },
    {
     "name": "stderr",
     "output_type": "stream",
     "text": [
      "[Parallel(n_jobs=1)]: Using backend SequentialBackend with 1 concurrent workers.\n",
      "[Parallel(n_jobs=1)]: Done   1 out of   1 | elapsed:    0.0s remaining:    0.0s\n"
     ]
    },
    {
     "name": "stdout",
     "output_type": "stream",
     "text": [
      "[CV] ............................... C=0.1, epsilon=0.6, total=   0.0s\n",
      "[CV] C=0.1, epsilon=0.6 ..............................................\n",
      "[CV] ............................... C=0.1, epsilon=0.6, total=   0.0s\n",
      "[CV] C=0.1, epsilon=0.6 ..............................................\n",
      "[CV] ............................... C=0.1, epsilon=0.6, total=   0.0s\n",
      "[CV] C=0.1, epsilon=0.7 ..............................................\n",
      "[CV] ............................... C=0.1, epsilon=0.7, total=   0.0s\n",
      "[CV] C=0.1, epsilon=0.7 ..............................................\n",
      "[CV] ............................... C=0.1, epsilon=0.7, total=   0.0s\n",
      "[CV] C=0.1, epsilon=0.7 ..............................................\n",
      "[CV] ............................... C=0.1, epsilon=0.7, total=   0.0s\n",
      "[CV] C=0.1, epsilon=0.7 ..............................................\n",
      "[CV] ............................... C=0.1, epsilon=0.7, total=   0.0s\n",
      "[CV] C=0.1, epsilon=0.7 ..............................................\n",
      "[CV] ............................... C=0.1, epsilon=0.7, total=   0.0s\n",
      "[CV] C=0.1, epsilon=0.8 ..............................................\n",
      "[CV] ............................... C=0.1, epsilon=0.8, total=   0.0s\n",
      "[CV] C=0.1, epsilon=0.8 ..............................................\n",
      "[CV] ............................... C=0.1, epsilon=0.8, total=   0.0s\n",
      "[CV] C=0.1, epsilon=0.8 ..............................................\n",
      "[CV] ............................... C=0.1, epsilon=0.8, total=   0.0s\n",
      "[CV] C=0.1, epsilon=0.8 ..............................................\n",
      "[CV] ............................... C=0.1, epsilon=0.8, total=   0.0s\n",
      "[CV] C=0.1, epsilon=0.8 ..............................................\n",
      "[CV] ............................... C=0.1, epsilon=0.8, total=   0.0s\n",
      "[CV] C=0.1, epsilon=0.9 ..............................................\n",
      "[CV] ............................... C=0.1, epsilon=0.9, total=   0.0s\n",
      "[CV] C=0.1, epsilon=0.9 ..............................................\n",
      "[CV] ............................... C=0.1, epsilon=0.9, total=   0.0s\n",
      "[CV] C=0.1, epsilon=0.9 ..............................................\n",
      "[CV] ............................... C=0.1, epsilon=0.9, total=   0.0s\n",
      "[CV] C=0.1, epsilon=0.9 ..............................................\n",
      "[CV] ............................... C=0.1, epsilon=0.9, total=   0.0s\n",
      "[CV] C=0.1, epsilon=0.9 ..............................................\n",
      "[CV] ............................... C=0.1, epsilon=0.9, total=   0.0s\n",
      "[CV] C=0.1, epsilon=1.0 ..............................................\n",
      "[CV] ............................... C=0.1, epsilon=1.0, total=   0.0s\n",
      "[CV] C=0.1, epsilon=1.0 ..............................................\n",
      "[CV] ............................... C=0.1, epsilon=1.0, total=   0.0s\n",
      "[CV] C=0.1, epsilon=1.0 ..............................................\n",
      "[CV] ............................... C=0.1, epsilon=1.0, total=   0.0s\n",
      "[CV] C=0.1, epsilon=1.0 ..............................................\n",
      "[CV] ............................... C=0.1, epsilon=1.0, total=   0.0s\n",
      "[CV] C=0.1, epsilon=1.0 ..............................................\n",
      "[CV] ............................... C=0.1, epsilon=1.0, total=   0.0s\n",
      "[CV] C=1, epsilon=0.1 ................................................\n",
      "[CV] ................................. C=1, epsilon=0.1, total=   0.0s\n",
      "[CV] C=1, epsilon=0.1 ................................................\n",
      "[CV] ................................. C=1, epsilon=0.1, total=   0.0s\n",
      "[CV] C=1, epsilon=0.1 ................................................\n",
      "[CV] ................................. C=1, epsilon=0.1, total=   0.0s\n",
      "[CV] C=1, epsilon=0.1 ................................................\n",
      "[CV] ................................. C=1, epsilon=0.1, total=   0.0s\n",
      "[CV] C=1, epsilon=0.1 ................................................\n",
      "[CV] ................................. C=1, epsilon=0.1, total=   0.0s\n",
      "[CV] C=1, epsilon=0.2 ................................................\n",
      "[CV] ................................. C=1, epsilon=0.2, total=   0.0s\n",
      "[CV] C=1, epsilon=0.2 ................................................\n",
      "[CV] ................................. C=1, epsilon=0.2, total=   0.0s\n",
      "[CV] C=1, epsilon=0.2 ................................................\n",
      "[CV] ................................. C=1, epsilon=0.2, total=   0.0s\n",
      "[CV] C=1, epsilon=0.2 ................................................\n",
      "[CV] ................................. C=1, epsilon=0.2, total=   0.0s\n",
      "[CV] C=1, epsilon=0.2 ................................................\n",
      "[CV] ................................. C=1, epsilon=0.2, total=   0.0s\n",
      "[CV] C=1, epsilon=0.3 ................................................\n",
      "[CV] ................................. C=1, epsilon=0.3, total=   0.0s\n",
      "[CV] C=1, epsilon=0.3 ................................................\n",
      "[CV] ................................. C=1, epsilon=0.3, total=   0.0s\n",
      "[CV] C=1, epsilon=0.3 ................................................\n",
      "[CV] ................................. C=1, epsilon=0.3, total=   0.0s\n",
      "[CV] C=1, epsilon=0.3 ................................................\n",
      "[CV] ................................. C=1, epsilon=0.3, total=   0.0s\n",
      "[CV] C=1, epsilon=0.3 ................................................\n",
      "[CV] ................................. C=1, epsilon=0.3, total=   0.0s\n",
      "[CV] C=1, epsilon=0.4 ................................................\n",
      "[CV] ................................. C=1, epsilon=0.4, total=   0.0s\n",
      "[CV] C=1, epsilon=0.4 ................................................\n",
      "[CV] ................................. C=1, epsilon=0.4, total=   0.0s\n",
      "[CV] C=1, epsilon=0.4 ................................................\n",
      "[CV] ................................. C=1, epsilon=0.4, total=   0.0s\n",
      "[CV] C=1, epsilon=0.4 ................................................\n",
      "[CV] ................................. C=1, epsilon=0.4, total=   0.0s\n",
      "[CV] C=1, epsilon=0.4 ................................................\n",
      "[CV] ................................. C=1, epsilon=0.4, total=   0.0s\n",
      "[CV] C=1, epsilon=0.5 ................................................\n",
      "[CV] ................................. C=1, epsilon=0.5, total=   0.0s\n",
      "[CV] C=1, epsilon=0.5 ................................................\n",
      "[CV] ................................. C=1, epsilon=0.5, total=   0.0s\n",
      "[CV] C=1, epsilon=0.5 ................................................\n",
      "[CV] ................................. C=1, epsilon=0.5, total=   0.0s\n",
      "[CV] C=1, epsilon=0.5 ................................................\n",
      "[CV] ................................. C=1, epsilon=0.5, total=   0.0s\n",
      "[CV] C=1, epsilon=0.5 ................................................\n",
      "[CV] ................................. C=1, epsilon=0.5, total=   0.0s\n",
      "[CV] C=1, epsilon=0.6 ................................................\n",
      "[CV] ................................. C=1, epsilon=0.6, total=   0.0s\n",
      "[CV] C=1, epsilon=0.6 ................................................\n",
      "[CV] ................................. C=1, epsilon=0.6, total=   0.0s\n",
      "[CV] C=1, epsilon=0.6 ................................................\n",
      "[CV] ................................. C=1, epsilon=0.6, total=   0.0s\n",
      "[CV] C=1, epsilon=0.6 ................................................\n",
      "[CV] ................................. C=1, epsilon=0.6, total=   0.0s\n",
      "[CV] C=1, epsilon=0.6 ................................................\n",
      "[CV] ................................. C=1, epsilon=0.6, total=   0.0s\n",
      "[CV] C=1, epsilon=0.7 ................................................\n",
      "[CV] ................................. C=1, epsilon=0.7, total=   0.0s\n",
      "[CV] C=1, epsilon=0.7 ................................................\n",
      "[CV] ................................. C=1, epsilon=0.7, total=   0.0s\n",
      "[CV] C=1, epsilon=0.7 ................................................\n",
      "[CV] ................................. C=1, epsilon=0.7, total=   0.0s\n",
      "[CV] C=1, epsilon=0.7 ................................................\n",
      "[CV] ................................. C=1, epsilon=0.7, total=   0.0s\n",
      "[CV] C=1, epsilon=0.7 ................................................\n",
      "[CV] ................................. C=1, epsilon=0.7, total=   0.0s\n",
      "[CV] C=1, epsilon=0.8 ................................................\n",
      "[CV] ................................. C=1, epsilon=0.8, total=   0.0s\n",
      "[CV] C=1, epsilon=0.8 ................................................\n",
      "[CV] ................................. C=1, epsilon=0.8, total=   0.0s\n",
      "[CV] C=1, epsilon=0.8 ................................................\n",
      "[CV] ................................. C=1, epsilon=0.8, total=   0.0s\n",
      "[CV] C=1, epsilon=0.8 ................................................\n",
      "[CV] ................................. C=1, epsilon=0.8, total=   0.0s\n",
      "[CV] C=1, epsilon=0.8 ................................................\n",
      "[CV] ................................. C=1, epsilon=0.8, total=   0.0s\n",
      "[CV] C=1, epsilon=0.9 ................................................\n",
      "[CV] ................................. C=1, epsilon=0.9, total=   0.0s\n",
      "[CV] C=1, epsilon=0.9 ................................................\n",
      "[CV] ................................. C=1, epsilon=0.9, total=   0.0s\n",
      "[CV] C=1, epsilon=0.9 ................................................\n",
      "[CV] ................................. C=1, epsilon=0.9, total=   0.0s\n",
      "[CV] C=1, epsilon=0.9 ................................................\n",
      "[CV] ................................. C=1, epsilon=0.9, total=   0.0s\n",
      "[CV] C=1, epsilon=0.9 ................................................\n",
      "[CV] ................................. C=1, epsilon=0.9, total=   0.0s\n",
      "[CV] C=1, epsilon=1.0 ................................................\n",
      "[CV] ................................. C=1, epsilon=1.0, total=   0.0s\n",
      "[CV] C=1, epsilon=1.0 ................................................\n",
      "[CV] ................................. C=1, epsilon=1.0, total=   0.0s\n",
      "[CV] C=1, epsilon=1.0 ................................................\n",
      "[CV] ................................. C=1, epsilon=1.0, total=   0.0s\n",
      "[CV] C=1, epsilon=1.0 ................................................\n",
      "[CV] ................................. C=1, epsilon=1.0, total=   0.0s\n",
      "[CV] C=1, epsilon=1.0 ................................................\n",
      "[CV] ................................. C=1, epsilon=1.0, total=   0.0s\n",
      "[CV] C=10, epsilon=0.1 ...............................................\n",
      "[CV] ................................ C=10, epsilon=0.1, total=   0.0s\n",
      "[CV] C=10, epsilon=0.1 ...............................................\n",
      "[CV] ................................ C=10, epsilon=0.1, total=   0.0s\n",
      "[CV] C=10, epsilon=0.1 ...............................................\n",
      "[CV] ................................ C=10, epsilon=0.1, total=   0.0s\n",
      "[CV] C=10, epsilon=0.1 ...............................................\n",
      "[CV] ................................ C=10, epsilon=0.1, total=   0.0s\n",
      "[CV] C=10, epsilon=0.1 ...............................................\n"
     ]
    },
    {
     "name": "stdout",
     "output_type": "stream",
     "text": [
      "[CV] ................................ C=10, epsilon=0.1, total=   0.0s\n",
      "[CV] C=10, epsilon=0.2 ...............................................\n",
      "[CV] ................................ C=10, epsilon=0.2, total=   0.0s\n",
      "[CV] C=10, epsilon=0.2 ...............................................\n",
      "[CV] ................................ C=10, epsilon=0.2, total=   0.0s\n",
      "[CV] C=10, epsilon=0.2 ...............................................\n",
      "[CV] ................................ C=10, epsilon=0.2, total=   0.0s\n",
      "[CV] C=10, epsilon=0.2 ...............................................\n",
      "[CV] ................................ C=10, epsilon=0.2, total=   0.0s\n",
      "[CV] C=10, epsilon=0.2 ...............................................\n",
      "[CV] ................................ C=10, epsilon=0.2, total=   0.0s\n",
      "[CV] C=10, epsilon=0.3 ...............................................\n",
      "[CV] ................................ C=10, epsilon=0.3, total=   0.0s\n",
      "[CV] C=10, epsilon=0.3 ...............................................\n",
      "[CV] ................................ C=10, epsilon=0.3, total=   0.0s\n",
      "[CV] C=10, epsilon=0.3 ...............................................\n",
      "[CV] ................................ C=10, epsilon=0.3, total=   0.0s\n",
      "[CV] C=10, epsilon=0.3 ...............................................\n",
      "[CV] ................................ C=10, epsilon=0.3, total=   0.0s\n",
      "[CV] C=10, epsilon=0.3 ...............................................\n",
      "[CV] ................................ C=10, epsilon=0.3, total=   0.0s\n",
      "[CV] C=10, epsilon=0.4 ...............................................\n",
      "[CV] ................................ C=10, epsilon=0.4, total=   0.0s\n",
      "[CV] C=10, epsilon=0.4 ...............................................\n",
      "[CV] ................................ C=10, epsilon=0.4, total=   0.0s\n",
      "[CV] C=10, epsilon=0.4 ...............................................\n",
      "[CV] ................................ C=10, epsilon=0.4, total=   0.0s\n",
      "[CV] C=10, epsilon=0.4 ...............................................\n",
      "[CV] ................................ C=10, epsilon=0.4, total=   0.0s\n",
      "[CV] C=10, epsilon=0.4 ...............................................\n",
      "[CV] ................................ C=10, epsilon=0.4, total=   0.0s\n",
      "[CV] C=10, epsilon=0.5 ...............................................\n",
      "[CV] ................................ C=10, epsilon=0.5, total=   0.0s\n",
      "[CV] C=10, epsilon=0.5 ...............................................\n",
      "[CV] ................................ C=10, epsilon=0.5, total=   0.0s\n",
      "[CV] C=10, epsilon=0.5 ...............................................\n",
      "[CV] ................................ C=10, epsilon=0.5, total=   0.0s\n",
      "[CV] C=10, epsilon=0.5 ...............................................\n",
      "[CV] ................................ C=10, epsilon=0.5, total=   0.0s\n",
      "[CV] C=10, epsilon=0.5 ...............................................\n",
      "[CV] ................................ C=10, epsilon=0.5, total=   0.0s\n",
      "[CV] C=10, epsilon=0.6 ...............................................\n",
      "[CV] ................................ C=10, epsilon=0.6, total=   0.0s\n",
      "[CV] C=10, epsilon=0.6 ...............................................\n",
      "[CV] ................................ C=10, epsilon=0.6, total=   0.0s\n",
      "[CV] C=10, epsilon=0.6 ...............................................\n",
      "[CV] ................................ C=10, epsilon=0.6, total=   0.0s\n",
      "[CV] C=10, epsilon=0.6 ...............................................\n",
      "[CV] ................................ C=10, epsilon=0.6, total=   0.0s\n",
      "[CV] C=10, epsilon=0.6 ...............................................\n",
      "[CV] ................................ C=10, epsilon=0.6, total=   0.0s\n",
      "[CV] C=10, epsilon=0.7 ...............................................\n",
      "[CV] ................................ C=10, epsilon=0.7, total=   0.0s\n",
      "[CV] C=10, epsilon=0.7 ...............................................\n",
      "[CV] ................................ C=10, epsilon=0.7, total=   0.0s\n",
      "[CV] C=10, epsilon=0.7 ...............................................\n",
      "[CV] ................................ C=10, epsilon=0.7, total=   0.0s\n",
      "[CV] C=10, epsilon=0.7 ...............................................\n",
      "[CV] ................................ C=10, epsilon=0.7, total=   0.0s\n",
      "[CV] C=10, epsilon=0.7 ...............................................\n",
      "[CV] ................................ C=10, epsilon=0.7, total=   0.0s\n",
      "[CV] C=10, epsilon=0.8 ...............................................\n",
      "[CV] ................................ C=10, epsilon=0.8, total=   0.0s\n",
      "[CV] C=10, epsilon=0.8 ...............................................\n",
      "[CV] ................................ C=10, epsilon=0.8, total=   0.0s\n",
      "[CV] C=10, epsilon=0.8 ...............................................\n",
      "[CV] ................................ C=10, epsilon=0.8, total=   0.0s\n",
      "[CV] C=10, epsilon=0.8 ...............................................\n",
      "[CV] ................................ C=10, epsilon=0.8, total=   0.0s\n",
      "[CV] C=10, epsilon=0.8 ...............................................\n",
      "[CV] ................................ C=10, epsilon=0.8, total=   0.0s\n",
      "[CV] C=10, epsilon=0.9 ...............................................\n",
      "[CV] ................................ C=10, epsilon=0.9, total=   0.0s\n",
      "[CV] C=10, epsilon=0.9 ...............................................\n",
      "[CV] ................................ C=10, epsilon=0.9, total=   0.0s\n",
      "[CV] C=10, epsilon=0.9 ...............................................\n",
      "[CV] ................................ C=10, epsilon=0.9, total=   0.0s\n",
      "[CV] C=10, epsilon=0.9 ...............................................\n",
      "[CV] ................................ C=10, epsilon=0.9, total=   0.0s\n",
      "[CV] C=10, epsilon=0.9 ...............................................\n",
      "[CV] ................................ C=10, epsilon=0.9, total=   0.0s\n",
      "[CV] C=10, epsilon=1.0 ...............................................\n",
      "[CV] ................................ C=10, epsilon=1.0, total=   0.0s\n",
      "[CV] C=10, epsilon=1.0 ...............................................\n",
      "[CV] ................................ C=10, epsilon=1.0, total=   0.0s\n",
      "[CV] C=10, epsilon=1.0 ...............................................\n",
      "[CV] ................................ C=10, epsilon=1.0, total=   0.0s\n",
      "[CV] C=10, epsilon=1.0 ...............................................\n",
      "[CV] ................................ C=10, epsilon=1.0, total=   0.0s\n",
      "[CV] C=10, epsilon=1.0 ...............................................\n",
      "[CV] ................................ C=10, epsilon=1.0, total=   0.0s\n",
      "[CV] C=100, epsilon=0.1 ..............................................\n",
      "[CV] ............................... C=100, epsilon=0.1, total=   0.0s\n",
      "[CV] C=100, epsilon=0.1 ..............................................\n",
      "[CV] ............................... C=100, epsilon=0.1, total=   0.0s\n",
      "[CV] C=100, epsilon=0.1 ..............................................\n",
      "[CV] ............................... C=100, epsilon=0.1, total=   0.0s\n",
      "[CV] C=100, epsilon=0.1 ..............................................\n",
      "[CV] ............................... C=100, epsilon=0.1, total=   0.0s\n",
      "[CV] C=100, epsilon=0.1 ..............................................\n",
      "[CV] ............................... C=100, epsilon=0.1, total=   0.0s\n",
      "[CV] C=100, epsilon=0.2 ..............................................\n",
      "[CV] ............................... C=100, epsilon=0.2, total=   0.0s\n",
      "[CV] C=100, epsilon=0.2 ..............................................\n",
      "[CV] ............................... C=100, epsilon=0.2, total=   0.0s\n",
      "[CV] C=100, epsilon=0.2 ..............................................\n",
      "[CV] ............................... C=100, epsilon=0.2, total=   0.0s\n",
      "[CV] C=100, epsilon=0.2 ..............................................\n",
      "[CV] ............................... C=100, epsilon=0.2, total=   0.0s\n",
      "[CV] C=100, epsilon=0.2 ..............................................\n",
      "[CV] ............................... C=100, epsilon=0.2, total=   0.0s\n",
      "[CV] C=100, epsilon=0.3 ..............................................\n",
      "[CV] ............................... C=100, epsilon=0.3, total=   0.0s\n",
      "[CV] C=100, epsilon=0.3 ..............................................\n",
      "[CV] ............................... C=100, epsilon=0.3, total=   0.0s\n",
      "[CV] C=100, epsilon=0.3 ..............................................\n",
      "[CV] ............................... C=100, epsilon=0.3, total=   0.0s\n",
      "[CV] C=100, epsilon=0.3 ..............................................\n",
      "[CV] ............................... C=100, epsilon=0.3, total=   0.0s\n",
      "[CV] C=100, epsilon=0.3 ..............................................\n"
     ]
    },
    {
     "name": "stdout",
     "output_type": "stream",
     "text": [
      "[CV] ............................... C=100, epsilon=0.3, total=   0.0s\n",
      "[CV] C=100, epsilon=0.4 ..............................................\n",
      "[CV] ............................... C=100, epsilon=0.4, total=   0.0s\n",
      "[CV] C=100, epsilon=0.4 ..............................................\n",
      "[CV] ............................... C=100, epsilon=0.4, total=   0.0s\n",
      "[CV] C=100, epsilon=0.4 ..............................................\n",
      "[CV] ............................... C=100, epsilon=0.4, total=   0.0s\n",
      "[CV] C=100, epsilon=0.4 ..............................................\n",
      "[CV] ............................... C=100, epsilon=0.4, total=   0.0s\n",
      "[CV] C=100, epsilon=0.4 ..............................................\n",
      "[CV] ............................... C=100, epsilon=0.4, total=   0.0s\n",
      "[CV] C=100, epsilon=0.5 ..............................................\n",
      "[CV] ............................... C=100, epsilon=0.5, total=   0.0s\n",
      "[CV] C=100, epsilon=0.5 ..............................................\n",
      "[CV] ............................... C=100, epsilon=0.5, total=   0.0s\n",
      "[CV] C=100, epsilon=0.5 ..............................................\n",
      "[CV] ............................... C=100, epsilon=0.5, total=   0.0s\n",
      "[CV] C=100, epsilon=0.5 ..............................................\n",
      "[CV] ............................... C=100, epsilon=0.5, total=   0.0s\n",
      "[CV] C=100, epsilon=0.5 ..............................................\n",
      "[CV] ............................... C=100, epsilon=0.5, total=   0.0s\n",
      "[CV] C=100, epsilon=0.6 ..............................................\n",
      "[CV] ............................... C=100, epsilon=0.6, total=   0.0s\n",
      "[CV] C=100, epsilon=0.6 ..............................................\n",
      "[CV] ............................... C=100, epsilon=0.6, total=   0.0s\n",
      "[CV] C=100, epsilon=0.6 ..............................................\n",
      "[CV] ............................... C=100, epsilon=0.6, total=   0.0s\n",
      "[CV] C=100, epsilon=0.6 ..............................................\n",
      "[CV] ............................... C=100, epsilon=0.6, total=   0.0s\n",
      "[CV] C=100, epsilon=0.6 ..............................................\n",
      "[CV] ............................... C=100, epsilon=0.6, total=   0.0s\n",
      "[CV] C=100, epsilon=0.7 ..............................................\n",
      "[CV] ............................... C=100, epsilon=0.7, total=   0.0s\n",
      "[CV] C=100, epsilon=0.7 ..............................................\n",
      "[CV] ............................... C=100, epsilon=0.7, total=   0.0s\n",
      "[CV] C=100, epsilon=0.7 ..............................................\n",
      "[CV] ............................... C=100, epsilon=0.7, total=   0.0s\n",
      "[CV] C=100, epsilon=0.7 ..............................................\n",
      "[CV] ............................... C=100, epsilon=0.7, total=   0.0s\n",
      "[CV] C=100, epsilon=0.7 ..............................................\n",
      "[CV] ............................... C=100, epsilon=0.7, total=   0.0s\n",
      "[CV] C=100, epsilon=0.8 ..............................................\n",
      "[CV] ............................... C=100, epsilon=0.8, total=   0.0s\n",
      "[CV] C=100, epsilon=0.8 ..............................................\n",
      "[CV] ............................... C=100, epsilon=0.8, total=   0.0s\n",
      "[CV] C=100, epsilon=0.8 ..............................................\n",
      "[CV] ............................... C=100, epsilon=0.8, total=   0.0s\n",
      "[CV] C=100, epsilon=0.8 ..............................................\n",
      "[CV] ............................... C=100, epsilon=0.8, total=   0.0s\n",
      "[CV] C=100, epsilon=0.8 ..............................................\n",
      "[CV] ............................... C=100, epsilon=0.8, total=   0.0s\n",
      "[CV] C=100, epsilon=0.9 ..............................................\n",
      "[CV] ............................... C=100, epsilon=0.9, total=   0.0s\n",
      "[CV] C=100, epsilon=0.9 ..............................................\n",
      "[CV] ............................... C=100, epsilon=0.9, total=   0.0s\n",
      "[CV] C=100, epsilon=0.9 ..............................................\n",
      "[CV] ............................... C=100, epsilon=0.9, total=   0.0s\n",
      "[CV] C=100, epsilon=0.9 ..............................................\n",
      "[CV] ............................... C=100, epsilon=0.9, total=   0.0s\n",
      "[CV] C=100, epsilon=0.9 ..............................................\n",
      "[CV] ............................... C=100, epsilon=0.9, total=   0.0s\n",
      "[CV] C=100, epsilon=1.0 ..............................................\n",
      "[CV] ............................... C=100, epsilon=1.0, total=   0.0s\n",
      "[CV] C=100, epsilon=1.0 ..............................................\n",
      "[CV] ............................... C=100, epsilon=1.0, total=   0.0s\n",
      "[CV] C=100, epsilon=1.0 ..............................................\n",
      "[CV] ............................... C=100, epsilon=1.0, total=   0.0s\n",
      "[CV] C=100, epsilon=1.0 ..............................................\n",
      "[CV] ............................... C=100, epsilon=1.0, total=   0.0s\n",
      "[CV] C=100, epsilon=1.0 ..............................................\n",
      "[CV] ............................... C=100, epsilon=1.0, total=   0.0s\n"
     ]
    },
    {
     "name": "stderr",
     "output_type": "stream",
     "text": [
      "[Parallel(n_jobs=1)]: Done 200 out of 200 | elapsed:    1.8s finished\n"
     ]
    },
    {
     "data": {
      "text/plain": [
       "GridSearchCV(cv=None, error_score=nan,\n",
       "             estimator=LinearSVR(C=1.0, dual=True, epsilon=0.0,\n",
       "                                 fit_intercept=True, intercept_scaling=1.0,\n",
       "                                 loss='epsilon_insensitive', max_iter=1000,\n",
       "                                 random_state=None, tol=0.0001, verbose=0),\n",
       "             iid='deprecated', n_jobs=None,\n",
       "             param_grid={'C': [0.1, 1, 10, 100],\n",
       "                         'epsilon': [0.1, 0.2, 0.3, 0.4, 0.5, 0.6, 0.7, 0.8,\n",
       "                                     0.9, 1.0]},\n",
       "             pre_dispatch='2*n_jobs', refit=True, return_train_score=False,\n",
       "             scoring=None, verbose=2)"
      ]
     },
     "execution_count": 55,
     "metadata": {},
     "output_type": "execute_result"
    }
   ],
   "source": [
    "grid = GridSearchCV(LinearSVR(),param_grid,refit=True,verbose=2)\n",
    "grid.fit(x.reshape(-1, 1),y)"
   ]
  },
  {
   "cell_type": "code",
   "execution_count": 56,
   "metadata": {},
   "outputs": [
    {
     "data": {
      "text/plain": [
       "LinearSVR(C=10, dual=True, epsilon=0.1, fit_intercept=True,\n",
       "          intercept_scaling=1.0, loss='epsilon_insensitive', max_iter=1000,\n",
       "          random_state=None, tol=0.0001, verbose=0)"
      ]
     },
     "execution_count": 56,
     "metadata": {},
     "output_type": "execute_result"
    }
   ],
   "source": [
    "grid.best_estimator_"
   ]
  },
  {
   "cell_type": "code",
   "execution_count": 57,
   "metadata": {},
   "outputs": [
    {
     "data": {
      "text/plain": [
       "0.5713251891027603"
      ]
     },
     "execution_count": 57,
     "metadata": {},
     "output_type": "execute_result"
    }
   ],
   "source": [
    "grid.best_score_"
   ]
  },
  {
   "cell_type": "code",
   "execution_count": 58,
   "metadata": {},
   "outputs": [
    {
     "data": {
      "text/plain": [
       "{'C': 10, 'epsilon': 0.1}"
      ]
     },
     "execution_count": 58,
     "metadata": {},
     "output_type": "execute_result"
    }
   ],
   "source": [
    "grid.best_params_"
   ]
  },
  {
   "cell_type": "code",
   "execution_count": 59,
   "metadata": {},
   "outputs": [
    {
     "data": {
      "text/plain": [
       "GridSearchCV(cv=3, error_score=nan,\n",
       "             estimator=BayesianRidge(alpha_1=1e-06, alpha_2=1e-06,\n",
       "                                     alpha_init=None, compute_score=False,\n",
       "                                     copy_X=True, fit_intercept=True,\n",
       "                                     lambda_1=1e-06, lambda_2=1e-06,\n",
       "                                     lambda_init=None, n_iter=300,\n",
       "                                     normalize=False, tol=0.001,\n",
       "                                     verbose=False),\n",
       "             iid='deprecated', n_jobs=-1,\n",
       "             param_grid={'alpha_1': array([1.00000000e-13, 7.74263683e-13, 5.99484250e-...\n",
       "                         'lambda_1': array([1.00000000e-10, 3.59381366e-10, 1.29154967e-09, 4.64158883e-09,\n",
       "       1.66810054e-08, 5.99484250e-08, 2.15443469e-07, 7.74263683e-07,\n",
       "       2.78255940e-06, 1.00000000e-05]),\n",
       "                         'lambda_2': array([1.00000000e-11, 5.99484250e-11, 3.59381366e-10, 2.15443469e-09,\n",
       "       1.29154967e-08, 7.74263683e-08, 4.64158883e-07, 2.78255940e-06,\n",
       "       1.66810054e-05, 1.00000000e-04])},\n",
       "             pre_dispatch='2*n_jobs', refit=True, return_train_score=False,\n",
       "             scoring=None, verbose=0)"
      ]
     },
     "execution_count": 59,
     "metadata": {},
     "output_type": "execute_result"
    }
   ],
   "source": [
    "parameters = {\"alpha_1\": np.logspace(-13,-5,10),\n",
    "              \"alpha_2\": np.logspace(-9,-3,10),\n",
    "              \"lambda_1\": np.logspace(-10,-5,10),\n",
    "              \"lambda_2\": np.logspace(-11,-4,10)}\n",
    "\n",
    "grid_regr = GridSearchCV(BayesianRidge(), parameters, cv=3, n_jobs=-1)\n",
    "grid_regr.fit(x.reshape(-1, 1), y)"
   ]
  },
  {
   "cell_type": "code",
   "execution_count": 60,
   "metadata": {},
   "outputs": [
    {
     "data": {
      "text/plain": [
       "BayesianRidge(alpha_1=1e-05, alpha_2=1e-09, alpha_init=None,\n",
       "              compute_score=False, copy_X=True, fit_intercept=True,\n",
       "              lambda_1=1e-10, lambda_2=0.0001, lambda_init=None, n_iter=300,\n",
       "              normalize=False, tol=0.001, verbose=False)"
      ]
     },
     "execution_count": 60,
     "metadata": {},
     "output_type": "execute_result"
    }
   ],
   "source": [
    "grid_regr.best_estimator_"
   ]
  },
  {
   "cell_type": "code",
   "execution_count": 61,
   "metadata": {},
   "outputs": [
    {
     "data": {
      "text/plain": [
       "0.6017531508217578"
      ]
     },
     "execution_count": 61,
     "metadata": {},
     "output_type": "execute_result"
    }
   ],
   "source": [
    "grid_regr.best_score_"
   ]
  },
  {
   "cell_type": "code",
   "execution_count": 62,
   "metadata": {},
   "outputs": [
    {
     "data": {
      "text/plain": [
       "{'alpha_1': 1e-05, 'alpha_2': 1e-09, 'lambda_1': 1e-10, 'lambda_2': 0.0001}"
      ]
     },
     "execution_count": 62,
     "metadata": {},
     "output_type": "execute_result"
    }
   ],
   "source": [
    "grid_regr.best_params_"
   ]
  },
  {
   "cell_type": "code",
   "execution_count": 63,
   "metadata": {
    "collapsed": true
   },
   "outputs": [],
   "source": [
    "reg = BayesianRidge(fit_intercept=True, alpha_1=1e-05, alpha_2=1e-09, lambda_1=1e-10, lambda_2=0.0001).fit(x.reshape(-1, 1), y.reshape(-1, 1))\n",
    "y_tt = reg.predict(x.reshape(-1, 1))\n",
    "\n",
    "lin_SVR = LinearSVR(C=1.0, max_iter=10000, epsilon=1.0)\n",
    "lin_SVR.fit(x.reshape(-1, 1), y)\n",
    "predict = lin_SVR.predict(x.reshape(-1, 1))\n",
    "\n",
    "dec_tree = DecisionTreeRegressor(random_state=1, max_depth=3)\n",
    "dec_tree.fit(data, data[\"Sales\"])\n",
    "dec_predict = dec_tree.predict(data)"
   ]
  },
  {
   "cell_type": "code",
   "execution_count": 64,
   "metadata": {},
   "outputs": [
    {
     "name": "stdout",
     "output_type": "stream",
     "text": [
      "Метрики для линейной модели:\n",
      "\n",
      "Средняя абсолютная ошибка:  2.5508292802546\n",
      "Средняя квадратичная ошибка:  10.512794897173503\n",
      "Коэффициент детерминации:  0.6118698089221382\n",
      "\n",
      "\n",
      "Метрики для SVM-модели:\n",
      "\n",
      "Средняя абсолютная ошибка:  2.6278521710815728\n",
      "Средняя квадратичная ошибка:  11.514845266318599\n",
      "Коэффициент детерминации:  0.5748743186600296\n",
      "\n",
      "\n",
      "Метрики для Decision Tree:\n",
      "\n",
      "Средняя абсолютная ошибка:  0.7095532407407409\n",
      "Средняя квадратичная ошибка:  0.7222188657407407\n",
      "Коэффициент детерминации:  0.9733358303760538\n"
     ]
    }
   ],
   "source": [
    "print(\"Метрики для линейной модели:\\n\")\n",
    "print(\"Средняя абсолютная ошибка: \", mean_absolute_error(y, y_tt))\n",
    "print(\"Средняя квадратичная ошибка: \", mean_squared_error(y, y_tt))\n",
    "print(\"Коэффициент детерминации: \", r2_score(y, y_tt))\n",
    "\n",
    "print(\"\\n\\nМетрики для SVM-модели:\\n\")\n",
    "print(\"Средняя абсолютная ошибка: \", mean_absolute_error(y, predict))\n",
    "print(\"Средняя квадратичная ошибка: \", mean_squared_error(y, predict))\n",
    "print(\"Коэффициент детерминации: \", r2_score(y, predict))\n",
    "\n",
    "\n",
    "print(\"\\n\\nМетрики для Decision Tree:\\n\")\n",
    "print(\"Средняя абсолютная ошибка: \", mean_absolute_error(y, dec_predict))\n",
    "print(\"Средняя квадратичная ошибка: \", mean_squared_error(y, dec_predict))\n",
    "print(\"Коэффициент детерминации: \", r2_score(y, dec_predict))"
   ]
  },
  {
   "cell_type": "markdown",
   "metadata": {},
   "source": [
    "## Подбор параметров улучшил показатели моделей"
   ]
  }
 ],
 "metadata": {
  "kernelspec": {
   "display_name": "Python 3",
   "language": "python",
   "name": "python3"
  },
  "language_info": {
   "codemirror_mode": {
    "name": "ipython",
    "version": 3
   },
   "file_extension": ".py",
   "mimetype": "text/x-python",
   "name": "python",
   "nbconvert_exporter": "python",
   "pygments_lexer": "ipython3",
   "version": "3.6.8"
  }
 },
 "nbformat": 4,
 "nbformat_minor": 2
}
